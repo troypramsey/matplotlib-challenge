{
 "cells": [
  {
   "cell_type": "markdown",
   "metadata": {},
   "source": [
    "# Importing dependencies and creating initial dataframe"
   ]
  },
  {
   "cell_type": "code",
   "execution_count": null,
   "metadata": {},
   "outputs": [],
   "source": [
    "import matplotlib.pyplot as plt\n",
    "import pandas as pd\n",
    "import scipy.stats as st\n",
    "\n",
    "mouse_metadata_path = \"data/Mouse_metadata.csv\"\n",
    "study_results_path = \"data/Study_results.csv\"\n",
    "\n",
    "mouse_metadata = pd.read_csv(mouse_metadata_path)\n",
    "study_results = pd.read_csv(study_results_path)\n",
    "\n",
    "mouse_df = pd.merge(mouse_metadata, study_results, how='outer', on='Mouse ID')\n",
    "\n",
    "mouse_df.head()"
   ]
  },
  {
   "cell_type": "markdown",
   "metadata": {},
   "source": [
    "## Finding and removing repeat values"
   ]
  },
  {
   "cell_type": "code",
   "execution_count": null,
   "metadata": {},
   "outputs": [],
   "source": [
    "# Checking to see if any mouse is referenced more times than any other\n",
    "mouse_df['Mouse ID'].value_counts()"
   ]
  },
  {
   "cell_type": "code",
   "execution_count": null,
   "metadata": {},
   "outputs": [],
   "source": [
    "# Mouse g989 has several repeated timepoints\n",
    "mouse_df.loc[mouse_df['Mouse ID'] == 'g989', :]"
   ]
  },
  {
   "cell_type": "code",
   "execution_count": null,
   "metadata": {},
   "outputs": [],
   "source": [
    "# Creating a cleaned dataframe by removing mouse g989\n",
    "mouse_cleaned = mouse_df.loc[mouse_df['Mouse ID'] != 'g989', :]"
   ]
  },
  {
   "cell_type": "markdown",
   "metadata": {},
   "source": [
    "## Creating summary table by drug treatment"
   ]
  },
  {
   "cell_type": "code",
   "execution_count": null,
   "metadata": {},
   "outputs": [],
   "source": [
    "# Creating a .groupby object by treatment\n",
    "drug_group = mouse_cleaned.groupby('Drug Regimen')\n",
    "\n",
    "# Creating aggregated variables for summary dataframe\n",
    "tumor_mean = drug_group['Tumor Volume (mm3)'].mean()\n",
    "tumor_median = drug_group['Tumor Volume (mm3)'].median()\n",
    "tumor_variance = drug_group['Tumor Volume (mm3)'].var()\n",
    "tumor_std = drug_group['Tumor Volume (mm3)'].std()\n",
    "\n",
    "# Creating a randomized sample to find standard error\n",
    "tumor_sample = mouse_cleaned.sample(25)\n",
    "tumor_sample_group = tumor_sample.groupby('Drug Regimen')\n",
    "tumor_sem = st.sem(tumor_sample['Tumor Volume (mm3)'])\n",
    "\n",
    "# Building summary dataframe from variables\n",
    "drug_summary_table = pd.DataFrame(\n",
    "{'Mean': tumor_mean, \n",
    " 'Median': tumor_median, \n",
    " 'Variance': tumor_variance, \n",
    " 'Standard Deviation': tumor_std, \n",
    " 'Standard Error': tumor_sem})\n",
    "\n",
    "# Removing the index label and sorting by variance\n",
    "drug_summary_table.index.name = None\n",
    "drug_summary_table.sort_values(by=['Variance'])"
   ]
  },
  {
   "cell_type": "markdown",
   "metadata": {},
   "source": [
    "## Creating bar charts (by drug treatment)"
   ]
  },
  {
   "cell_type": "code",
   "execution_count": null,
   "metadata": {},
   "outputs": [],
   "source": [
    "# Creating summary count table by treatment\n",
    "drug_counts = drug_group['Mouse ID'].count()\n",
    "drug_counts"
   ]
  },
  {
   "cell_type": "code",
   "execution_count": null,
   "metadata": {},
   "outputs": [],
   "source": [
    "# Using built-in Pandas bar plot on summary count table\n",
    "drug_counts.plot(kind=\"bar\")\n",
    "plt.xlabel('Treatment')\n",
    "plt.ylabel('# of Subjects')\n",
    "plt.title('Total Subjects per Treatment')\n",
    "plt.show()"
   ]
  },
  {
   "cell_type": "code",
   "execution_count": null,
   "metadata": {},
   "outputs": [],
   "source": [
    "# Creating axis variables from Pandas columns for Matplotlib bar plot\n",
    "x_index = drug_counts.index\n",
    "x_axis = [x for x in x_index]\n",
    "\n",
    "y_axis = [x for x in drug_counts]"
   ]
  },
  {
   "cell_type": "code",
   "execution_count": null,
   "metadata": {},
   "outputs": [],
   "source": [
    "# Building and formatting Matplotlib bar plot\n",
    "plt.bar(x_axis, y_axis)\n",
    "plt.xlabel('Treatment')\n",
    "plt.ylabel('# of Subjects')\n",
    "plt.title('Total Subjects per Treatment')\n",
    "plt.xticks(rotation=90)\n",
    "plt.show()"
   ]
  },
  {
   "cell_type": "markdown",
   "metadata": {},
   "source": [
    "## Creating pie charts (by sex)"
   ]
  },
  {
   "cell_type": "code",
   "execution_count": null,
   "metadata": {},
   "outputs": [],
   "source": [
    "# Creating summary count table by sex\n",
    "sex_group = mouse_cleaned.groupby('Sex')\n",
    "sex_counts = sex_group['Mouse ID'].count()"
   ]
  },
  {
   "cell_type": "code",
   "execution_count": null,
   "metadata": {},
   "outputs": [],
   "source": [
    "# Creating variables for labels and values from summary count table\n",
    "labels = [x for x in sex_counts.index]\n",
    "pie_values = [x for x in sex_counts]"
   ]
  },
  {
   "cell_type": "code",
   "execution_count": null,
   "metadata": {},
   "outputs": [],
   "source": [
    "# Building and formatting pie chart using Pandas built-in pie chart\n",
    "sex_counts.plot.pie(autopct='%1.1f%%')\n",
    "plt.title('Division of Subjects by Sex')\n",
    "plt.ylabel('')\n",
    "plt.show()"
   ]
  },
  {
   "cell_type": "code",
   "execution_count": null,
   "metadata": {},
   "outputs": [],
   "source": [
    "# Building and formatting pie chart using Matplotlib\n",
    "plt.pie(pie_values, labels=labels, autopct=\"%1.1f%%\")\n",
    "plt.title('Division of Subjects by Sex')\n",
    "plt.show()"
   ]
  },
  {
   "cell_type": "markdown",
   "metadata": {},
   "source": [
    "## Calculating tumor volume across most promising treatments"
   ]
  },
  {
   "cell_type": "code",
   "execution_count": null,
   "metadata": {},
   "outputs": [],
   "source": [
    "# Creating .groupby object to organize by treatment and mouse\n",
    "drug_mouse_group = mouse_cleaned.groupby(['Drug Regimen', 'Mouse ID'])\n",
    "\n",
    "# Building tumor mass summary dataframe for reference\n",
    "tumor_mass = pd.DataFrame(drug_mouse_group['Tumor Volume (mm3)'].sum())\n",
    "\n",
    "# Building individual tumor mass dataframes by treatment\n",
    "capomulin_tumor_mass = tumor_mass.loc[\n",
    "['Capomulin']]\n",
    "ramicane_tumor_mass = tumor_mass.loc[\n",
    "['Ramicane']]\n",
    "infubinol_tumor_mass = tumor_mass.loc[\n",
    "['Infubinol']]\n",
    "ceftamin_tumor_mass = tumor_mass.loc[\n",
    "['Ceftamin']]"
   ]
  },
  {
   "cell_type": "code",
   "execution_count": null,
   "metadata": {},
   "outputs": [],
   "source": [
    "# Quantitative approach to finding Capomulin outliers\n",
    "quartiles = capomulin_tumor_mass['Tumor Volume (mm3)'].quantile([.25,.5,.75])\n",
    "lq = quartiles[.25]\n",
    "uq = quartiles[.75]\n",
    "iqr = uq - lq\n",
    "\n",
    "cap_lb = lq-(1.5*iqr)\n",
    "cap_ub = uq+(1.5*iqr)\n",
    "\n",
    "# Building a dataframe of all Capomulin outliers\n",
    "cap_outlier_df = capomulin_tumor_mass.loc[(capomulin_tumor_mass['Tumor Volume (mm3)'] < cap_lb) \n",
    "                                      | (capomulin_tumor_mass['Tumor Volume (mm3)'] > cap_ub), :]\n",
    "\n",
    "# Displaying outliers in a dataframe\n",
    "cap_outlier_df"
   ]
  },
  {
   "cell_type": "code",
   "execution_count": null,
   "metadata": {},
   "outputs": [],
   "source": [
    "# Quantitative approach to finding Ramicane outliers\n",
    "quartiles = ramicane_tumor_mass['Tumor Volume (mm3)'].quantile([.25,.5,.75])\n",
    "lq = quartiles[.25]\n",
    "uq = quartiles[.75]\n",
    "iqr = uq - lq\n",
    "\n",
    "ram_lb = lq-(1.5*iqr)\n",
    "ram_ub = uq+(1.5*iqr)\n",
    "\n",
    "# Building a dataframe of all Ramicane outliers\n",
    "ram_outlier_df = ramicane_tumor_mass.loc[(ramicane_tumor_mass['Tumor Volume (mm3)'] < ram_lb) \n",
    "                                      | (ramicane_tumor_mass['Tumor Volume (mm3)'] > ram_ub), :]\n",
    "\n",
    "# Displaying outliers in a dataframe\n",
    "ram_outlier_df"
   ]
  },
  {
   "cell_type": "code",
   "execution_count": null,
   "metadata": {},
   "outputs": [],
   "source": [
    "# Quantitative approach to finding Ifubinol outliers\n",
    "quartiles = infubinol_tumor_mass['Tumor Volume (mm3)'].quantile([.25,.5,.75])\n",
    "lq = quartiles[.25]\n",
    "uq = quartiles[.75]\n",
    "iqr = uq - lq\n",
    "\n",
    "inf_lb = lq-(1.5*iqr)\n",
    "inf_ub = uq+(1.5*iqr)\n",
    "\n",
    "# Building a dataframe of all Infubinol outliers\n",
    "inf_outlier_df = infubinol_tumor_mass.loc[(infubinol_tumor_mass['Tumor Volume (mm3)'] < inf_lb) \n",
    "                                      | (infubinol_tumor_mass['Tumor Volume (mm3)'] > inf_ub), :]\n",
    "\n",
    "# Displaying outliers in a dataframe\n",
    "inf_outlier_df"
   ]
  },
  {
   "cell_type": "code",
   "execution_count": null,
   "metadata": {},
   "outputs": [],
   "source": [
    "# Quantitative approach to finding Ceftamin outliers\n",
    "quartiles = ceftamin_tumor_mass['Tumor Volume (mm3)'].quantile([.25,.5,.75])\n",
    "lq = quartiles[.25]\n",
    "uq = quartiles[.75]\n",
    "iqr = uq - lq\n",
    "\n",
    "cef_lb = lq-(1.5*iqr)\n",
    "cef_ub = uq+(1.5*iqr)\n",
    "\n",
    "# Building a dataframe of all Ceftamin outliers\n",
    "cef_outlier_df = ceftamin_tumor_mass.loc[(ceftamin_tumor_mass['Tumor Volume (mm3)'] < cef_lb) \n",
    "                                      | (ceftamin_tumor_mass['Tumor Volume (mm3)'] > cef_ub), :]\n",
    "\n",
    "# Displaying outliers in a dataframe\n",
    "cef_outlier_df"
   ]
  },
  {
   "cell_type": "markdown",
   "metadata": {},
   "source": [
    "## Boxplot"
   ]
  },
  {
   "cell_type": "code",
   "execution_count": null,
   "metadata": {},
   "outputs": [],
   "source": [
    "# Creating data, label, and marker variables\n",
    "box_data = [capomulin_tumor_mass['Tumor Volume (mm3)'], ramicane_tumor_mass['Tumor Volume (mm3)'], \n",
    "            infubinol_tumor_mass['Tumor Volume (mm3)'], ceftamin_tumor_mass['Tumor Volume (mm3)']]\n",
    "tick_labels = ['Capomulin', 'Ramicane', 'Infubinol', 'Ceftamin']\n",
    "markers = dict(marker='o', markerfacecolor='white', markersize=4)\n",
    "\n",
    "# Building and formatting box and whisker plot\n",
    "fig1, ax1 = plt.subplots()\n",
    "ax1.boxplot(box_data, flierprops=markers)\n",
    "ax1.set_xticklabels(tick_labels)\n",
    "ax1.set_title('Comparison of Tumor Volume Distribution Across Most Promising Treatments')\n",
    "ax1.set_xlabel('Treatment')\n",
    "ax1.set_ylabel('Tumor Mass (in mm3)')\n",
    "plt.show()"
   ]
  },
  {
   "cell_type": "markdown",
   "metadata": {},
   "source": [
    "## Individual Mouse"
   ]
  },
  {
   "cell_type": "code",
   "execution_count": null,
   "metadata": {},
   "outputs": [],
   "source": [
    "# Creating a random sample generator to pick a mouse to be charted\n",
    "sample_generator = mouse_cleaned.loc[mouse_cleaned['Drug Regimen'] == 'Capomulin', :].sample(1)\n",
    "sample_generator"
   ]
  },
  {
   "cell_type": "code",
   "execution_count": null,
   "metadata": {},
   "outputs": [],
   "source": [
    "# Pulling all rows for the sampled mouse out of the master dataframe\n",
    "sample_mouse = mouse_cleaned.loc[mouse_cleaned['Mouse ID'] == sample_generator.iloc[0,0], :]\n",
    "sample_mouse"
   ]
  },
  {
   "cell_type": "code",
   "execution_count": null,
   "metadata": {},
   "outputs": [],
   "source": [
    "# Building line plot for sampled mouse\n",
    "plt.plot(sample_mouse['Timepoint'], sample_mouse['Tumor Volume (mm3)'])\n",
    "plt.xlabel('Timepoint')\n",
    "plt.ylabel('Tumor Volume (mm3)')\n",
    "plt.title(f\"Treatment over time for mouse {sample_mouse.iloc[0,0]}\")\n",
    "plt.show()"
   ]
  },
  {
   "cell_type": "markdown",
   "metadata": {},
   "source": [
    "## Scatterplot"
   ]
  },
  {
   "cell_type": "code",
   "execution_count": null,
   "metadata": {},
   "outputs": [],
   "source": [
    "# Creating an exclusive dataframe that only include Capomulin treated mice\n",
    "capomulin_df = mouse_cleaned.loc[mouse_cleaned['Drug Regimen'] == 'Capomulin', :]"
   ]
  },
  {
   "cell_type": "code",
   "execution_count": null,
   "metadata": {},
   "outputs": [],
   "source": [
    "# Grouping mice by weight\n",
    "weight_to_volume_group = capomulin_df.groupby('Weight (g)')\n",
    "\n",
    "# Finding the average tumor volume for each weight group\n",
    "weight_to_volume_df = pd.DataFrame(weight_to_volume_group['Tumor Volume (mm3)'].mean())\n",
    "\n",
    "# Creating axis variables\n",
    "weights = weight_to_volume_df.index\n",
    "volumes = weight_to_volume_df.iloc[:,0]"
   ]
  },
  {
   "cell_type": "code",
   "execution_count": null,
   "metadata": {},
   "outputs": [],
   "source": [
    "# Building scatterplot\n",
    "plt.scatter(weights, volumes)\n",
    "plt.title('Weight to Average Tumor Mass')\n",
    "plt.xlabel('Mouse Weight (g)')\n",
    "plt.ylabel('Average Tumor Mass (mm3)')\n",
    "\n",
    "# Unpacking linear regression returns into tuple\n",
    "(slope, intercept, rvalue, pvalue, stderr) = st.linregress(weights, volumes)\n",
    "\n",
    "# Using line slope to create y-axis values for regression line\n",
    "regress_values = weights * slope + intercept\n",
    "\n",
    "# Plotting regression line over scatterplot\n",
    "plt.plot(weights, regress_values, \"r-\")\n",
    "plt.show()\n",
    "\n",
    "# Displaying correlation coefficient\n",
    "print(f\"The correlation coefficient is {rvalue**2}\")"
   ]
  },
  {
   "cell_type": "code",
   "execution_count": null,
   "metadata": {},
   "outputs": [],
   "source": []
  }
 ],
 "metadata": {
  "kernelspec": {
   "display_name": "Python 3",
   "language": "python",
   "name": "python3"
  },
  "language_info": {
   "codemirror_mode": {
    "name": "ipython",
    "version": 3
   },
   "file_extension": ".py",
   "mimetype": "text/x-python",
   "name": "python",
   "nbconvert_exporter": "python",
   "pygments_lexer": "ipython3",
   "version": "3.6.10"
  }
 },
 "nbformat": 4,
 "nbformat_minor": 4
}
