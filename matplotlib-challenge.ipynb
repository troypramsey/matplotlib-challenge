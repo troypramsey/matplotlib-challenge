{
 "cells": [
  {
   "cell_type": "markdown",
   "metadata": {},
   "source": [
    "# Analysis"
   ]
  },
  {
   "cell_type": "markdown",
   "metadata": {},
   "source": [
    "- More successful treatments not only showed reduced tumor volume, but as a whole generated tighter results distributions. For example, Ramicane produced the smallest average tumor volumes, but also showed much smaller degrees of variance and a smaller standard deviation, whereas Ketapril not only resulted in the largest average tumor volume but also possesed a much larger variance and wider distribution. The four most promising treatments' mean tumor volumes are valuable, as they are not plagued with outliers. A single outlier among all treatment candidates in the Capomulin, Ramicane, Ceftamin, and Infubinol studies reinforces the thesis that better mean volumes are strongly correlated with better distribution and lower variance. \n",
    "\n",
    "\n",
    "- Overall subject weight is strongly correlated with tumor volume. An R coefficient of .84 in the Capomulin trials illustrates a positive correlation, with an increase in subject weight strongly predicting a proportionate increase in tumor volume. Perhaps looking into whether average mouse weight is equally distributed among all treatment groups will confirm this, as worse performing treatments may have a heavier average mouse weight.\n",
    "\n",
    "\n",
    "- Capomulin produces occasional unpredictability in results. Running a random mouse generator in the line plot section allows for displaying multiple treatment trajectories with each run, which showcase how, though mean volumes are lower than most other medications, the paths to those means can be sometimes unpredictable. Mouse u364, for example, shows no reduction in tumor size until timepoint 15, whereas Mouse s710 shows an initial volume decrease followed by nearly exponential volume increase for five timepoints in a row. It seems that the end result trends toward volume reduction, but the unpredictability in *how* that reduction occurs is interesting to note. Perhaps longer trials would lead to insight, with trends either decreasing in volitility over time or maybe remaining just as volitile."
   ]
  },
  {
   "cell_type": "markdown",
   "metadata": {},
   "source": [
    "# Importing dependencies and creating initial dataframe\n",
    "\n",
    "The two data sets must be merged into a single dataframe."
   ]
  },
  {
   "cell_type": "code",
   "execution_count": 1,
   "metadata": {},
   "outputs": [
    {
     "data": {
      "text/html": [
       "<div>\n",
       "<style scoped>\n",
       "    .dataframe tbody tr th:only-of-type {\n",
       "        vertical-align: middle;\n",
       "    }\n",
       "\n",
       "    .dataframe tbody tr th {\n",
       "        vertical-align: top;\n",
       "    }\n",
       "\n",
       "    .dataframe thead th {\n",
       "        text-align: right;\n",
       "    }\n",
       "</style>\n",
       "<table border=\"1\" class=\"dataframe\">\n",
       "  <thead>\n",
       "    <tr style=\"text-align: right;\">\n",
       "      <th></th>\n",
       "      <th>Mouse ID</th>\n",
       "      <th>Drug Regimen</th>\n",
       "      <th>Sex</th>\n",
       "      <th>Age_months</th>\n",
       "      <th>Weight (g)</th>\n",
       "      <th>Timepoint</th>\n",
       "      <th>Tumor Volume (mm3)</th>\n",
       "      <th>Metastatic Sites</th>\n",
       "    </tr>\n",
       "  </thead>\n",
       "  <tbody>\n",
       "    <tr>\n",
       "      <th>0</th>\n",
       "      <td>k403</td>\n",
       "      <td>Ramicane</td>\n",
       "      <td>Male</td>\n",
       "      <td>21</td>\n",
       "      <td>16</td>\n",
       "      <td>0</td>\n",
       "      <td>45.000000</td>\n",
       "      <td>0</td>\n",
       "    </tr>\n",
       "    <tr>\n",
       "      <th>1</th>\n",
       "      <td>k403</td>\n",
       "      <td>Ramicane</td>\n",
       "      <td>Male</td>\n",
       "      <td>21</td>\n",
       "      <td>16</td>\n",
       "      <td>5</td>\n",
       "      <td>38.825898</td>\n",
       "      <td>0</td>\n",
       "    </tr>\n",
       "    <tr>\n",
       "      <th>2</th>\n",
       "      <td>k403</td>\n",
       "      <td>Ramicane</td>\n",
       "      <td>Male</td>\n",
       "      <td>21</td>\n",
       "      <td>16</td>\n",
       "      <td>10</td>\n",
       "      <td>35.014271</td>\n",
       "      <td>1</td>\n",
       "    </tr>\n",
       "    <tr>\n",
       "      <th>3</th>\n",
       "      <td>k403</td>\n",
       "      <td>Ramicane</td>\n",
       "      <td>Male</td>\n",
       "      <td>21</td>\n",
       "      <td>16</td>\n",
       "      <td>15</td>\n",
       "      <td>34.223992</td>\n",
       "      <td>1</td>\n",
       "    </tr>\n",
       "    <tr>\n",
       "      <th>4</th>\n",
       "      <td>k403</td>\n",
       "      <td>Ramicane</td>\n",
       "      <td>Male</td>\n",
       "      <td>21</td>\n",
       "      <td>16</td>\n",
       "      <td>20</td>\n",
       "      <td>32.997729</td>\n",
       "      <td>1</td>\n",
       "    </tr>\n",
       "  </tbody>\n",
       "</table>\n",
       "</div>"
      ],
      "text/plain": [
       "  Mouse ID Drug Regimen   Sex  Age_months  Weight (g)  Timepoint  \\\n",
       "0     k403     Ramicane  Male          21          16          0   \n",
       "1     k403     Ramicane  Male          21          16          5   \n",
       "2     k403     Ramicane  Male          21          16         10   \n",
       "3     k403     Ramicane  Male          21          16         15   \n",
       "4     k403     Ramicane  Male          21          16         20   \n",
       "\n",
       "   Tumor Volume (mm3)  Metastatic Sites  \n",
       "0           45.000000                 0  \n",
       "1           38.825898                 0  \n",
       "2           35.014271                 1  \n",
       "3           34.223992                 1  \n",
       "4           32.997729                 1  "
      ]
     },
     "execution_count": 1,
     "metadata": {},
     "output_type": "execute_result"
    }
   ],
   "source": [
    "import matplotlib.pyplot as plt\n",
    "import pandas as pd\n",
    "import scipy.stats as st\n",
    "\n",
    "mouse_metadata_path = \"data/Mouse_metadata.csv\"\n",
    "study_results_path = \"data/Study_results.csv\"\n",
    "\n",
    "mouse_metadata = pd.read_csv(mouse_metadata_path)\n",
    "study_results = pd.read_csv(study_results_path)\n",
    "\n",
    "mouse_df = pd.merge(mouse_metadata, study_results, how='outer', on='Mouse ID')\n",
    "\n",
    "mouse_df.head()"
   ]
  },
  {
   "cell_type": "markdown",
   "metadata": {},
   "source": [
    "# Finding and removing repeat values\n",
    "\n",
    "Running a values count on all of the mice will determine whether any mouse is referenced more than the others."
   ]
  },
  {
   "cell_type": "code",
   "execution_count": 2,
   "metadata": {},
   "outputs": [
    {
     "data": {
      "text/plain": [
       "g989    13\n",
       "b559    10\n",
       "i334    10\n",
       "a444    10\n",
       "a644    10\n",
       "        ..\n",
       "o848     1\n",
       "v199     1\n",
       "t573     1\n",
       "h428     1\n",
       "b447     1\n",
       "Name: Mouse ID, Length: 249, dtype: int64"
      ]
     },
     "execution_count": 2,
     "metadata": {},
     "output_type": "execute_result"
    }
   ],
   "source": [
    "# Checking to see if any mouse is referenced more times than any other\n",
    "mouse_df['Mouse ID'].value_counts()"
   ]
  },
  {
   "cell_type": "markdown",
   "metadata": {},
   "source": [
    "We can see that mouse g989 has several more references than any other mouse. We can display that mouse's info..."
   ]
  },
  {
   "cell_type": "code",
   "execution_count": 3,
   "metadata": {},
   "outputs": [
    {
     "data": {
      "text/html": [
       "<div>\n",
       "<style scoped>\n",
       "    .dataframe tbody tr th:only-of-type {\n",
       "        vertical-align: middle;\n",
       "    }\n",
       "\n",
       "    .dataframe tbody tr th {\n",
       "        vertical-align: top;\n",
       "    }\n",
       "\n",
       "    .dataframe thead th {\n",
       "        text-align: right;\n",
       "    }\n",
       "</style>\n",
       "<table border=\"1\" class=\"dataframe\">\n",
       "  <thead>\n",
       "    <tr style=\"text-align: right;\">\n",
       "      <th></th>\n",
       "      <th>Mouse ID</th>\n",
       "      <th>Drug Regimen</th>\n",
       "      <th>Sex</th>\n",
       "      <th>Age_months</th>\n",
       "      <th>Weight (g)</th>\n",
       "      <th>Timepoint</th>\n",
       "      <th>Tumor Volume (mm3)</th>\n",
       "      <th>Metastatic Sites</th>\n",
       "    </tr>\n",
       "  </thead>\n",
       "  <tbody>\n",
       "    <tr>\n",
       "      <th>908</th>\n",
       "      <td>g989</td>\n",
       "      <td>Propriva</td>\n",
       "      <td>Female</td>\n",
       "      <td>21</td>\n",
       "      <td>26</td>\n",
       "      <td>0</td>\n",
       "      <td>45.000000</td>\n",
       "      <td>0</td>\n",
       "    </tr>\n",
       "    <tr>\n",
       "      <th>909</th>\n",
       "      <td>g989</td>\n",
       "      <td>Propriva</td>\n",
       "      <td>Female</td>\n",
       "      <td>21</td>\n",
       "      <td>26</td>\n",
       "      <td>0</td>\n",
       "      <td>45.000000</td>\n",
       "      <td>0</td>\n",
       "    </tr>\n",
       "    <tr>\n",
       "      <th>910</th>\n",
       "      <td>g989</td>\n",
       "      <td>Propriva</td>\n",
       "      <td>Female</td>\n",
       "      <td>21</td>\n",
       "      <td>26</td>\n",
       "      <td>5</td>\n",
       "      <td>48.786801</td>\n",
       "      <td>0</td>\n",
       "    </tr>\n",
       "    <tr>\n",
       "      <th>911</th>\n",
       "      <td>g989</td>\n",
       "      <td>Propriva</td>\n",
       "      <td>Female</td>\n",
       "      <td>21</td>\n",
       "      <td>26</td>\n",
       "      <td>5</td>\n",
       "      <td>47.570392</td>\n",
       "      <td>0</td>\n",
       "    </tr>\n",
       "    <tr>\n",
       "      <th>912</th>\n",
       "      <td>g989</td>\n",
       "      <td>Propriva</td>\n",
       "      <td>Female</td>\n",
       "      <td>21</td>\n",
       "      <td>26</td>\n",
       "      <td>10</td>\n",
       "      <td>51.745156</td>\n",
       "      <td>0</td>\n",
       "    </tr>\n",
       "    <tr>\n",
       "      <th>913</th>\n",
       "      <td>g989</td>\n",
       "      <td>Propriva</td>\n",
       "      <td>Female</td>\n",
       "      <td>21</td>\n",
       "      <td>26</td>\n",
       "      <td>10</td>\n",
       "      <td>49.880528</td>\n",
       "      <td>0</td>\n",
       "    </tr>\n",
       "    <tr>\n",
       "      <th>914</th>\n",
       "      <td>g989</td>\n",
       "      <td>Propriva</td>\n",
       "      <td>Female</td>\n",
       "      <td>21</td>\n",
       "      <td>26</td>\n",
       "      <td>15</td>\n",
       "      <td>51.325852</td>\n",
       "      <td>1</td>\n",
       "    </tr>\n",
       "    <tr>\n",
       "      <th>915</th>\n",
       "      <td>g989</td>\n",
       "      <td>Propriva</td>\n",
       "      <td>Female</td>\n",
       "      <td>21</td>\n",
       "      <td>26</td>\n",
       "      <td>15</td>\n",
       "      <td>53.442020</td>\n",
       "      <td>0</td>\n",
       "    </tr>\n",
       "    <tr>\n",
       "      <th>916</th>\n",
       "      <td>g989</td>\n",
       "      <td>Propriva</td>\n",
       "      <td>Female</td>\n",
       "      <td>21</td>\n",
       "      <td>26</td>\n",
       "      <td>20</td>\n",
       "      <td>55.326122</td>\n",
       "      <td>1</td>\n",
       "    </tr>\n",
       "    <tr>\n",
       "      <th>917</th>\n",
       "      <td>g989</td>\n",
       "      <td>Propriva</td>\n",
       "      <td>Female</td>\n",
       "      <td>21</td>\n",
       "      <td>26</td>\n",
       "      <td>20</td>\n",
       "      <td>54.657650</td>\n",
       "      <td>1</td>\n",
       "    </tr>\n",
       "    <tr>\n",
       "      <th>918</th>\n",
       "      <td>g989</td>\n",
       "      <td>Propriva</td>\n",
       "      <td>Female</td>\n",
       "      <td>21</td>\n",
       "      <td>26</td>\n",
       "      <td>25</td>\n",
       "      <td>56.045564</td>\n",
       "      <td>1</td>\n",
       "    </tr>\n",
       "    <tr>\n",
       "      <th>919</th>\n",
       "      <td>g989</td>\n",
       "      <td>Propriva</td>\n",
       "      <td>Female</td>\n",
       "      <td>21</td>\n",
       "      <td>26</td>\n",
       "      <td>30</td>\n",
       "      <td>59.082294</td>\n",
       "      <td>1</td>\n",
       "    </tr>\n",
       "    <tr>\n",
       "      <th>920</th>\n",
       "      <td>g989</td>\n",
       "      <td>Propriva</td>\n",
       "      <td>Female</td>\n",
       "      <td>21</td>\n",
       "      <td>26</td>\n",
       "      <td>35</td>\n",
       "      <td>62.570880</td>\n",
       "      <td>2</td>\n",
       "    </tr>\n",
       "  </tbody>\n",
       "</table>\n",
       "</div>"
      ],
      "text/plain": [
       "    Mouse ID Drug Regimen     Sex  Age_months  Weight (g)  Timepoint  \\\n",
       "908     g989     Propriva  Female          21          26          0   \n",
       "909     g989     Propriva  Female          21          26          0   \n",
       "910     g989     Propriva  Female          21          26          5   \n",
       "911     g989     Propriva  Female          21          26          5   \n",
       "912     g989     Propriva  Female          21          26         10   \n",
       "913     g989     Propriva  Female          21          26         10   \n",
       "914     g989     Propriva  Female          21          26         15   \n",
       "915     g989     Propriva  Female          21          26         15   \n",
       "916     g989     Propriva  Female          21          26         20   \n",
       "917     g989     Propriva  Female          21          26         20   \n",
       "918     g989     Propriva  Female          21          26         25   \n",
       "919     g989     Propriva  Female          21          26         30   \n",
       "920     g989     Propriva  Female          21          26         35   \n",
       "\n",
       "     Tumor Volume (mm3)  Metastatic Sites  \n",
       "908           45.000000                 0  \n",
       "909           45.000000                 0  \n",
       "910           48.786801                 0  \n",
       "911           47.570392                 0  \n",
       "912           51.745156                 0  \n",
       "913           49.880528                 0  \n",
       "914           51.325852                 1  \n",
       "915           53.442020                 0  \n",
       "916           55.326122                 1  \n",
       "917           54.657650                 1  \n",
       "918           56.045564                 1  \n",
       "919           59.082294                 1  \n",
       "920           62.570880                 2  "
      ]
     },
     "execution_count": 3,
     "metadata": {},
     "output_type": "execute_result"
    }
   ],
   "source": [
    "# Displaying all rows for mouse g989\n",
    "mouse_df.loc[mouse_df['Mouse ID'] == 'g989', :]"
   ]
  },
  {
   "cell_type": "markdown",
   "metadata": {},
   "source": [
    "... and see that several timepoints have been repeated. Now we have to remove this mouse from our dataframe."
   ]
  },
  {
   "cell_type": "code",
   "execution_count": 4,
   "metadata": {},
   "outputs": [],
   "source": [
    "# Creating a cleaned dataframe by removing mouse g989\n",
    "mouse_cleaned = mouse_df.loc[mouse_df['Mouse ID'] != 'g989', :]"
   ]
  },
  {
   "cell_type": "markdown",
   "metadata": {},
   "source": [
    "# Creating summary table by drug treatment\n",
    "\n",
    "Displaying most of our summary data by drug treatment is fairly straightforward, but we'll need a sample from the dataframe to derive the standard error. The standard error will fluctuate with each run, as the sample will be randomly chosen each time."
   ]
  },
  {
   "cell_type": "code",
   "execution_count": 5,
   "metadata": {},
   "outputs": [
    {
     "data": {
      "text/html": [
       "<div>\n",
       "<style scoped>\n",
       "    .dataframe tbody tr th:only-of-type {\n",
       "        vertical-align: middle;\n",
       "    }\n",
       "\n",
       "    .dataframe tbody tr th {\n",
       "        vertical-align: top;\n",
       "    }\n",
       "\n",
       "    .dataframe thead th {\n",
       "        text-align: right;\n",
       "    }\n",
       "</style>\n",
       "<table border=\"1\" class=\"dataframe\">\n",
       "  <thead>\n",
       "    <tr style=\"text-align: right;\">\n",
       "      <th></th>\n",
       "      <th>Mean</th>\n",
       "      <th>Median</th>\n",
       "      <th>Variance</th>\n",
       "      <th>Standard Deviation</th>\n",
       "      <th>Standard Error</th>\n",
       "    </tr>\n",
       "  </thead>\n",
       "  <tbody>\n",
       "    <tr>\n",
       "      <th>Ramicane</th>\n",
       "      <td>40.216745</td>\n",
       "      <td>40.673236</td>\n",
       "      <td>23.486704</td>\n",
       "      <td>4.846308</td>\n",
       "      <td>1.793977</td>\n",
       "    </tr>\n",
       "    <tr>\n",
       "      <th>Capomulin</th>\n",
       "      <td>40.675741</td>\n",
       "      <td>41.557809</td>\n",
       "      <td>24.947764</td>\n",
       "      <td>4.994774</td>\n",
       "      <td>1.793977</td>\n",
       "    </tr>\n",
       "    <tr>\n",
       "      <th>Ceftamin</th>\n",
       "      <td>52.591172</td>\n",
       "      <td>51.776157</td>\n",
       "      <td>39.290177</td>\n",
       "      <td>6.268188</td>\n",
       "      <td>1.793977</td>\n",
       "    </tr>\n",
       "    <tr>\n",
       "      <th>Infubinol</th>\n",
       "      <td>52.884795</td>\n",
       "      <td>51.820584</td>\n",
       "      <td>43.128684</td>\n",
       "      <td>6.567243</td>\n",
       "      <td>1.793977</td>\n",
       "    </tr>\n",
       "    <tr>\n",
       "      <th>Propriva</th>\n",
       "      <td>52.320930</td>\n",
       "      <td>50.446266</td>\n",
       "      <td>43.852013</td>\n",
       "      <td>6.622085</td>\n",
       "      <td>1.793977</td>\n",
       "    </tr>\n",
       "    <tr>\n",
       "      <th>Zoniferol</th>\n",
       "      <td>53.236507</td>\n",
       "      <td>51.818479</td>\n",
       "      <td>48.533355</td>\n",
       "      <td>6.966589</td>\n",
       "      <td>1.793977</td>\n",
       "    </tr>\n",
       "    <tr>\n",
       "      <th>Stelasyn</th>\n",
       "      <td>54.233149</td>\n",
       "      <td>52.431737</td>\n",
       "      <td>59.450562</td>\n",
       "      <td>7.710419</td>\n",
       "      <td>1.793977</td>\n",
       "    </tr>\n",
       "    <tr>\n",
       "      <th>Placebo</th>\n",
       "      <td>54.033581</td>\n",
       "      <td>52.288934</td>\n",
       "      <td>61.168083</td>\n",
       "      <td>7.821003</td>\n",
       "      <td>1.793977</td>\n",
       "    </tr>\n",
       "    <tr>\n",
       "      <th>Naftisol</th>\n",
       "      <td>54.331565</td>\n",
       "      <td>52.509285</td>\n",
       "      <td>66.173479</td>\n",
       "      <td>8.134708</td>\n",
       "      <td>1.793977</td>\n",
       "    </tr>\n",
       "    <tr>\n",
       "      <th>Ketapril</th>\n",
       "      <td>55.235638</td>\n",
       "      <td>53.698743</td>\n",
       "      <td>68.553577</td>\n",
       "      <td>8.279709</td>\n",
       "      <td>1.793977</td>\n",
       "    </tr>\n",
       "  </tbody>\n",
       "</table>\n",
       "</div>"
      ],
      "text/plain": [
       "                Mean     Median   Variance  Standard Deviation  Standard Error\n",
       "Ramicane   40.216745  40.673236  23.486704            4.846308        1.793977\n",
       "Capomulin  40.675741  41.557809  24.947764            4.994774        1.793977\n",
       "Ceftamin   52.591172  51.776157  39.290177            6.268188        1.793977\n",
       "Infubinol  52.884795  51.820584  43.128684            6.567243        1.793977\n",
       "Propriva   52.320930  50.446266  43.852013            6.622085        1.793977\n",
       "Zoniferol  53.236507  51.818479  48.533355            6.966589        1.793977\n",
       "Stelasyn   54.233149  52.431737  59.450562            7.710419        1.793977\n",
       "Placebo    54.033581  52.288934  61.168083            7.821003        1.793977\n",
       "Naftisol   54.331565  52.509285  66.173479            8.134708        1.793977\n",
       "Ketapril   55.235638  53.698743  68.553577            8.279709        1.793977"
      ]
     },
     "execution_count": 5,
     "metadata": {},
     "output_type": "execute_result"
    }
   ],
   "source": [
    "# Creating a .groupby object by treatment\n",
    "drug_group = mouse_cleaned.groupby('Drug Regimen')\n",
    "\n",
    "# Creating aggregated variables for summary dataframe\n",
    "tumor_mean = drug_group['Tumor Volume (mm3)'].mean()\n",
    "tumor_median = drug_group['Tumor Volume (mm3)'].median()\n",
    "tumor_variance = drug_group['Tumor Volume (mm3)'].var()\n",
    "tumor_std = drug_group['Tumor Volume (mm3)'].std()\n",
    "\n",
    "# Creating a randomized sample to find standard error\n",
    "tumor_sample = mouse_cleaned.sample(25)\n",
    "tumor_sample_group = tumor_sample.groupby('Drug Regimen')\n",
    "tumor_sem = st.sem(tumor_sample['Tumor Volume (mm3)'])\n",
    "\n",
    "# Building summary dataframe from variables\n",
    "drug_summary_table = pd.DataFrame(\n",
    "{'Mean': tumor_mean, \n",
    " 'Median': tumor_median, \n",
    " 'Variance': tumor_variance, \n",
    " 'Standard Deviation': tumor_std, \n",
    " 'Standard Error': tumor_sem})\n",
    "\n",
    "# Removing the index label and sorting by variance\n",
    "drug_summary_table.index.name = None\n",
    "drug_summary_table.sort_values(by=['Variance'])"
   ]
  },
  {
   "cell_type": "markdown",
   "metadata": {},
   "source": [
    "# Creating bar charts (by drug treatment)\n",
    "\n",
    "We'll need a breakdown of how many mice are involved in each drug treatment. We can create an ordered summary table and use its columns as axes for the two bar charts."
   ]
  },
  {
   "cell_type": "code",
   "execution_count": 6,
   "metadata": {},
   "outputs": [
    {
     "data": {
      "text/plain": [
       "Capomulin    230\n",
       "Ramicane     228\n",
       "Ketapril     188\n",
       "Naftisol     186\n",
       "Zoniferol    182\n",
       "Stelasyn     181\n",
       "Placebo      181\n",
       "Infubinol    178\n",
       "Ceftamin     178\n",
       "Propriva     148\n",
       "Name: Mouse ID, dtype: int64"
      ]
     },
     "execution_count": 6,
     "metadata": {},
     "output_type": "execute_result"
    }
   ],
   "source": [
    "# Creating summary count table by treatment\n",
    "drug_counts = drug_group['Mouse ID'].count()\n",
    "drug_counts_sorted = drug_counts.sort_values(ascending=False)\n",
    "drug_counts_sorted"
   ]
  },
  {
   "cell_type": "code",
   "execution_count": 7,
   "metadata": {},
   "outputs": [
    {
     "data": {
      "image/png": "[encoded data removed]",
      "text/plain": [
       "<Figure size 864x432 with 1 Axes>"
      ]
     },
     "metadata": {
      "needs_background": "light"
     },
     "output_type": "display_data"
    }
   ],
   "source": [
    "# Using built-in Pandas bar plot on summary count table\n",
    "drug_plot = drug_counts_sorted.plot(kind=\"bar\", figsize=(12,6), facecolor='#df6786')\n",
    "plt.xlabel('Treatment', labelpad=20, fontsize='large')\n",
    "plt.ylabel('# of Measurements', labelpad=20, fontsize='large')\n",
    "plt.title('Total Points of Data per Treatment', fontweight='bold', fontsize='large', pad=20)\n",
    "plt.show()"
   ]
  },
  {
   "cell_type": "code",
   "execution_count": 8,
   "metadata": {},
   "outputs": [],
   "source": [
    "# Creating axis variables from Pandas columns for Matplotlib bar plot\n",
    "x_index = drug_counts_sorted.index\n",
    "x_axis = [x for x in x_index]\n",
    "\n",
    "y_axis = [x for x in drug_counts_sorted]"
   ]
  },
  {
   "cell_type": "code",
   "execution_count": 9,
   "metadata": {},
   "outputs": [
    {
     "data": {
      "image/png": "[encoded data removed]",
      "text/plain": [
       "<Figure size 864x432 with 1 Axes>"
      ]
     },
     "metadata": {
      "needs_background": "light"
     },
     "output_type": "display_data"
    }
   ],
   "source": [
    "# Building and formatting Matplotlib bar plot\n",
    "plt.figure(figsize=(12,6))\n",
    "plt.bar(x_axis, y_axis, width=.6, facecolor='#df6786')\n",
    "plt.xlabel('Treatment', labelpad=20, fontsize='large')\n",
    "plt.ylabel('# of Measurements', labelpad=20, fontsize='large')\n",
    "plt.title('Total Points of Data per Treatment', fontweight='bold', fontsize='large', pad=20)\n",
    "plt.xticks(rotation=90)\n",
    "plt.show()"
   ]
  },
  {
   "cell_type": "markdown",
   "metadata": {},
   "source": [
    "# Creating pie charts (by sex)\n",
    "\n",
    "Similar to the bar charts, we'll need some sort of frequency table to display the full population of mice broken up by sex. The pie charting functions will automatically convert those frequencies into relative frequencies (percents)."
   ]
  },
  {
   "cell_type": "code",
   "execution_count": 10,
   "metadata": {},
   "outputs": [
    {
     "data": {
      "text/plain": [
       "Sex\n",
       "Female    123\n",
       "Male      125\n",
       "Name: Mouse ID, dtype: int64"
      ]
     },
     "execution_count": 10,
     "metadata": {},
     "output_type": "execute_result"
    }
   ],
   "source": [
    "# Creating summary count table by sex\n",
    "sex_group = mouse_cleaned.groupby('Sex')\n",
    "sex_counts = sex_group['Mouse ID'].nunique()\n",
    "sex_counts"
   ]
  },
  {
   "cell_type": "code",
   "execution_count": 11,
   "metadata": {},
   "outputs": [],
   "source": [
    "# Creating variables for labels and values from summary count table\n",
    "labels = [x for x in sex_counts.index]\n",
    "pie_values = [x for x in sex_counts]"
   ]
  },
  {
   "cell_type": "code",
   "execution_count": 12,
   "metadata": {},
   "outputs": [
    {
     "data": {
      "image/png": "[encoded data removed]",
      "text/plain": [
       "<Figure size 864x432 with 1 Axes>"
      ]
     },
     "metadata": {},
     "output_type": "display_data"
    }
   ],
   "source": [
    "# Building and formatting pie chart using Pandas built-in pie chart\n",
    "sex_counts.plot.pie(figsize=(12,6), autopct='%1.1f%%', explode=(.1, 0), \n",
    "                    shadow=True, colors=('#c5fad5', '#ffffd2'), startangle=90)\n",
    "plt.title('Division of Subjects by Sex')\n",
    "plt.ylabel('')\n",
    "plt.show()"
   ]
  },
  {
   "cell_type": "code",
   "execution_count": 13,
   "metadata": {},
   "outputs": [
    {
     "data": {
      "image/png": "[encoded data removed]",
      "text/plain": [
       "<Figure size 864x432 with 1 Axes>"
      ]
     },
     "metadata": {},
     "output_type": "display_data"
    }
   ],
   "source": [
    "# Building and formatting pie chart using Matplotlib\n",
    "plt.figure(figsize=(12,6))\n",
    "plt.pie(pie_values, labels=labels, autopct=\"%1.1f%%\", explode=(.1,0), \n",
    "        shadow=True, colors=('#c5fad5', '#ffffd2'), startangle=90)\n",
    "plt.title('Division of Subjects by Sex')\n",
    "plt.show()"
   ]
  },
  {
   "cell_type": "markdown",
   "metadata": {},
   "source": [
    "# Calculating tumor volume across most promising treatments\n",
    "\n",
    "Grouping the mice by treatment and ID allows for easy access to the final tumor volume for each individual mouse. Splitting the grouped dataframe further into individual treatment dataframes for our four most promising treatments allows for finding the unique quantitative bounds for each treatment."
   ]
  },
  {
   "cell_type": "code",
   "execution_count": 14,
   "metadata": {},
   "outputs": [],
   "source": [
    "# Creating .groupby object to organize by treatment and mouse\n",
    "drug_mouse_group = mouse_cleaned.groupby(['Drug Regimen', 'Mouse ID'])\n",
    "\n",
    "# Building final volume summary dataframe for reference\n",
    "tumor_mass = pd.DataFrame(drug_mouse_group['Tumor Volume (mm3)'].last())\n",
    "\n",
    "# Building individual tumor mass dataframes by treatment\n",
    "capomulin_tumor_mass = tumor_mass.loc[\n",
    "['Capomulin']]\n",
    "ramicane_tumor_mass = tumor_mass.loc[\n",
    "['Ramicane']]\n",
    "infubinol_tumor_mass = tumor_mass.loc[\n",
    "['Infubinol']]\n",
    "ceftamin_tumor_mass = tumor_mass.loc[\n",
    "['Ceftamin']]"
   ]
  },
  {
   "cell_type": "markdown",
   "metadata": {},
   "source": [
    "### Finding the Capomulin outliers"
   ]
  },
  {
   "cell_type": "code",
   "execution_count": 15,
   "metadata": {},
   "outputs": [
    {
     "data": {
      "text/html": [
       "<div>\n",
       "<style scoped>\n",
       "    .dataframe tbody tr th:only-of-type {\n",
       "        vertical-align: middle;\n",
       "    }\n",
       "\n",
       "    .dataframe tbody tr th {\n",
       "        vertical-align: top;\n",
       "    }\n",
       "\n",
       "    .dataframe thead th {\n",
       "        text-align: right;\n",
       "    }\n",
       "</style>\n",
       "<table border=\"1\" class=\"dataframe\">\n",
       "  <thead>\n",
       "    <tr style=\"text-align: right;\">\n",
       "      <th></th>\n",
       "      <th></th>\n",
       "      <th>Tumor Volume (mm3)</th>\n",
       "    </tr>\n",
       "    <tr>\n",
       "      <th>Drug Regimen</th>\n",
       "      <th>Mouse ID</th>\n",
       "      <th></th>\n",
       "    </tr>\n",
       "  </thead>\n",
       "  <tbody>\n",
       "  </tbody>\n",
       "</table>\n",
       "</div>"
      ],
      "text/plain": [
       "Empty DataFrame\n",
       "Columns: [Tumor Volume (mm3)]\n",
       "Index: []"
      ]
     },
     "execution_count": 15,
     "metadata": {},
     "output_type": "execute_result"
    }
   ],
   "source": [
    "# Determining quartiles, interquartile range, and bounds\n",
    "quartiles = capomulin_tumor_mass['Tumor Volume (mm3)'].quantile([.25,.5,.75])\n",
    "lq = quartiles[.25]\n",
    "uq = quartiles[.75]\n",
    "iqr = uq - lq\n",
    "\n",
    "cap_lb = lq-(1.5*iqr)\n",
    "cap_ub = uq+(1.5*iqr)\n",
    "\n",
    "# Building a dataframe of all Capomulin outliers\n",
    "cap_outlier_df = capomulin_tumor_mass.loc[(capomulin_tumor_mass['Tumor Volume (mm3)'] < cap_lb) \n",
    "                                      | (capomulin_tumor_mass['Tumor Volume (mm3)'] > cap_ub), :]\n",
    "\n",
    "# Displaying outliers in a dataframe\n",
    "cap_outlier_df"
   ]
  },
  {
   "cell_type": "markdown",
   "metadata": {},
   "source": [
    "There are no outliers in the Capomulin study."
   ]
  },
  {
   "cell_type": "markdown",
   "metadata": {},
   "source": [
    "### Finding the Ramicane outliers"
   ]
  },
  {
   "cell_type": "code",
   "execution_count": 16,
   "metadata": {},
   "outputs": [
    {
     "data": {
      "text/html": [
       "<div>\n",
       "<style scoped>\n",
       "    .dataframe tbody tr th:only-of-type {\n",
       "        vertical-align: middle;\n",
       "    }\n",
       "\n",
       "    .dataframe tbody tr th {\n",
       "        vertical-align: top;\n",
       "    }\n",
       "\n",
       "    .dataframe thead th {\n",
       "        text-align: right;\n",
       "    }\n",
       "</style>\n",
       "<table border=\"1\" class=\"dataframe\">\n",
       "  <thead>\n",
       "    <tr style=\"text-align: right;\">\n",
       "      <th></th>\n",
       "      <th></th>\n",
       "      <th>Tumor Volume (mm3)</th>\n",
       "    </tr>\n",
       "    <tr>\n",
       "      <th>Drug Regimen</th>\n",
       "      <th>Mouse ID</th>\n",
       "      <th></th>\n",
       "    </tr>\n",
       "  </thead>\n",
       "  <tbody>\n",
       "  </tbody>\n",
       "</table>\n",
       "</div>"
      ],
      "text/plain": [
       "Empty DataFrame\n",
       "Columns: [Tumor Volume (mm3)]\n",
       "Index: []"
      ]
     },
     "execution_count": 16,
     "metadata": {},
     "output_type": "execute_result"
    }
   ],
   "source": [
    "# Determining quartiles, interquartile range, and bounds\n",
    "quartiles = ramicane_tumor_mass['Tumor Volume (mm3)'].quantile([.25,.5,.75])\n",
    "lq = quartiles[.25]\n",
    "uq = quartiles[.75]\n",
    "iqr = uq - lq\n",
    "\n",
    "ram_lb = lq-(1.5*iqr)\n",
    "ram_ub = uq+(1.5*iqr)\n",
    "\n",
    "# Building a dataframe of all Ramicane outliers\n",
    "ram_outlier_df = ramicane_tumor_mass.loc[(ramicane_tumor_mass['Tumor Volume (mm3)'] < ram_lb) \n",
    "                                      | (ramicane_tumor_mass['Tumor Volume (mm3)'] > ram_ub), :]\n",
    "\n",
    "# Displaying outliers in a dataframe\n",
    "ram_outlier_df"
   ]
  },
  {
   "cell_type": "markdown",
   "metadata": {},
   "source": [
    "There are no outliers in the Ramicane study."
   ]
  },
  {
   "cell_type": "markdown",
   "metadata": {},
   "source": [
    "### Finding the Infubinol outliers"
   ]
  },
  {
   "cell_type": "code",
   "execution_count": 17,
   "metadata": {},
   "outputs": [
    {
     "data": {
      "text/html": [
       "<div>\n",
       "<style scoped>\n",
       "    .dataframe tbody tr th:only-of-type {\n",
       "        vertical-align: middle;\n",
       "    }\n",
       "\n",
       "    .dataframe tbody tr th {\n",
       "        vertical-align: top;\n",
       "    }\n",
       "\n",
       "    .dataframe thead th {\n",
       "        text-align: right;\n",
       "    }\n",
       "</style>\n",
       "<table border=\"1\" class=\"dataframe\">\n",
       "  <thead>\n",
       "    <tr style=\"text-align: right;\">\n",
       "      <th></th>\n",
       "      <th></th>\n",
       "      <th>Tumor Volume (mm3)</th>\n",
       "    </tr>\n",
       "    <tr>\n",
       "      <th>Drug Regimen</th>\n",
       "      <th>Mouse ID</th>\n",
       "      <th></th>\n",
       "    </tr>\n",
       "  </thead>\n",
       "  <tbody>\n",
       "    <tr>\n",
       "      <th>Infubinol</th>\n",
       "      <th>c326</th>\n",
       "      <td>36.321346</td>\n",
       "    </tr>\n",
       "  </tbody>\n",
       "</table>\n",
       "</div>"
      ],
      "text/plain": [
       "                       Tumor Volume (mm3)\n",
       "Drug Regimen Mouse ID                    \n",
       "Infubinol    c326               36.321346"
      ]
     },
     "execution_count": 17,
     "metadata": {},
     "output_type": "execute_result"
    }
   ],
   "source": [
    "# Determining quartiles, interquartile range, and bounds\n",
    "quartiles = infubinol_tumor_mass['Tumor Volume (mm3)'].quantile([.25,.5,.75])\n",
    "lq = quartiles[.25]\n",
    "uq = quartiles[.75]\n",
    "iqr = uq - lq\n",
    "\n",
    "inf_lb = lq-(1.5*iqr)\n",
    "inf_ub = uq+(1.5*iqr)\n",
    "\n",
    "# Building a dataframe of all Infubinol outliers\n",
    "inf_outlier_df = infubinol_tumor_mass.loc[(infubinol_tumor_mass['Tumor Volume (mm3)'] < inf_lb) \n",
    "                                      | (infubinol_tumor_mass['Tumor Volume (mm3)'] > inf_ub), :]\n",
    "\n",
    "# Displaying outliers in a dataframe\n",
    "inf_outlier_df"
   ]
  },
  {
   "cell_type": "markdown",
   "metadata": {},
   "source": [
    "There is one outlier in the Infubinol study."
   ]
  },
  {
   "cell_type": "markdown",
   "metadata": {},
   "source": [
    "### Finding the Ceftamin outliers"
   ]
  },
  {
   "cell_type": "code",
   "execution_count": 18,
   "metadata": {},
   "outputs": [
    {
     "data": {
      "text/html": [
       "<div>\n",
       "<style scoped>\n",
       "    .dataframe tbody tr th:only-of-type {\n",
       "        vertical-align: middle;\n",
       "    }\n",
       "\n",
       "    .dataframe tbody tr th {\n",
       "        vertical-align: top;\n",
       "    }\n",
       "\n",
       "    .dataframe thead th {\n",
       "        text-align: right;\n",
       "    }\n",
       "</style>\n",
       "<table border=\"1\" class=\"dataframe\">\n",
       "  <thead>\n",
       "    <tr style=\"text-align: right;\">\n",
       "      <th></th>\n",
       "      <th></th>\n",
       "      <th>Tumor Volume (mm3)</th>\n",
       "    </tr>\n",
       "    <tr>\n",
       "      <th>Drug Regimen</th>\n",
       "      <th>Mouse ID</th>\n",
       "      <th></th>\n",
       "    </tr>\n",
       "  </thead>\n",
       "  <tbody>\n",
       "  </tbody>\n",
       "</table>\n",
       "</div>"
      ],
      "text/plain": [
       "Empty DataFrame\n",
       "Columns: [Tumor Volume (mm3)]\n",
       "Index: []"
      ]
     },
     "execution_count": 18,
     "metadata": {},
     "output_type": "execute_result"
    }
   ],
   "source": [
    "# Determining quartiles, interquartile range, and bounds\n",
    "quartiles = ceftamin_tumor_mass['Tumor Volume (mm3)'].quantile([.25,.5,.75])\n",
    "lq = quartiles[.25]\n",
    "uq = quartiles[.75]\n",
    "iqr = uq - lq\n",
    "\n",
    "cef_lb = lq-(1.5*iqr)\n",
    "cef_ub = uq+(1.5*iqr)\n",
    "\n",
    "# Building a dataframe of all Ceftamin outliers\n",
    "cef_outlier_df = ceftamin_tumor_mass.loc[(ceftamin_tumor_mass['Tumor Volume (mm3)'] < cef_lb) \n",
    "                                      | (ceftamin_tumor_mass['Tumor Volume (mm3)'] > cef_ub), :]\n",
    "\n",
    "# Displaying outliers in a dataframe\n",
    "cef_outlier_df"
   ]
  },
  {
   "cell_type": "markdown",
   "metadata": {},
   "source": [
    "There are no outliers in the Ceftamin study."
   ]
  },
  {
   "cell_type": "markdown",
   "metadata": {},
   "source": [
    "# Boxplot\n",
    "\n",
    "Using a box and whisker plot illustrates and reinforces our findings from initial outliers testing."
   ]
  },
  {
   "cell_type": "code",
   "execution_count": 19,
   "metadata": {},
   "outputs": [
    {
     "data": {
      "image/png": "[encoded data removed]",
      "text/plain": [
       "<Figure size 864x432 with 1 Axes>"
      ]
     },
     "metadata": {
      "needs_background": "light"
     },
     "output_type": "display_data"
    }
   ],
   "source": [
    "# Creating data, label, and marker variables\n",
    "box_data = [capomulin_tumor_mass['Tumor Volume (mm3)'], ramicane_tumor_mass['Tumor Volume (mm3)'], \n",
    "            infubinol_tumor_mass['Tumor Volume (mm3)'], ceftamin_tumor_mass['Tumor Volume (mm3)']]\n",
    "tick_labels = ['Capomulin', 'Ramicane', 'Infubinol', 'Ceftamin']\n",
    "markers = dict(marker='.', markerfacecolor='red', markersize=8)\n",
    "\n",
    "# Building and formatting box and whisker plot\n",
    "fig1, ax1 = plt.subplots(figsize=(12,6))\n",
    "ax1.boxplot(box_data, flierprops=markers)\n",
    "ax1.set_xticklabels(tick_labels)\n",
    "ax1.set_title('Comparison of Tumor Volume Distribution Across Most Promising Treatments', fontweight='bold', pad=20)\n",
    "ax1.set_xlabel('Treatment', labelpad=20, fontsize='large')\n",
    "ax1.set_ylabel('Tumor Volume (in mm3)', labelpad=20, fontsize='large')\n",
    "plt.show()"
   ]
  },
  {
   "cell_type": "markdown",
   "metadata": {},
   "source": [
    "# Plotting individual results for Capomulin over time\n",
    "\n",
    "Plotting each mouse's change in tumor volume over time is useful for a quick look into higher level results. Creating a generator to pull a random mouse from the Capomulin study allows us to display multiple mice to look for trends. "
   ]
  },
  {
   "cell_type": "code",
   "execution_count": 20,
   "metadata": {},
   "outputs": [
    {
     "data": {
      "text/html": [
       "<div>\n",
       "<style scoped>\n",
       "    .dataframe tbody tr th:only-of-type {\n",
       "        vertical-align: middle;\n",
       "    }\n",
       "\n",
       "    .dataframe tbody tr th {\n",
       "        vertical-align: top;\n",
       "    }\n",
       "\n",
       "    .dataframe thead th {\n",
       "        text-align: right;\n",
       "    }\n",
       "</style>\n",
       "<table border=\"1\" class=\"dataframe\">\n",
       "  <thead>\n",
       "    <tr style=\"text-align: right;\">\n",
       "      <th></th>\n",
       "      <th>Mouse ID</th>\n",
       "      <th>Drug Regimen</th>\n",
       "      <th>Sex</th>\n",
       "      <th>Age_months</th>\n",
       "      <th>Weight (g)</th>\n",
       "      <th>Timepoint</th>\n",
       "      <th>Tumor Volume (mm3)</th>\n",
       "      <th>Metastatic Sites</th>\n",
       "    </tr>\n",
       "  </thead>\n",
       "  <tbody>\n",
       "    <tr>\n",
       "      <th>20</th>\n",
       "      <td>x401</td>\n",
       "      <td>Capomulin</td>\n",
       "      <td>Female</td>\n",
       "      <td>16</td>\n",
       "      <td>15</td>\n",
       "      <td>0</td>\n",
       "      <td>45.0</td>\n",
       "      <td>0</td>\n",
       "    </tr>\n",
       "  </tbody>\n",
       "</table>\n",
       "</div>"
      ],
      "text/plain": [
       "   Mouse ID Drug Regimen     Sex  Age_months  Weight (g)  Timepoint  \\\n",
       "20     x401    Capomulin  Female          16          15          0   \n",
       "\n",
       "    Tumor Volume (mm3)  Metastatic Sites  \n",
       "20                45.0                 0  "
      ]
     },
     "execution_count": 20,
     "metadata": {},
     "output_type": "execute_result"
    }
   ],
   "source": [
    "# Creating a random sample generator to pick a mouse to be charted\n",
    "sample_generator = mouse_cleaned.loc[mouse_cleaned['Drug Regimen'] == 'Capomulin', :].sample(1)\n",
    "sample_generator"
   ]
  },
  {
   "cell_type": "code",
   "execution_count": 21,
   "metadata": {},
   "outputs": [
    {
     "data": {
      "text/html": [
       "<div>\n",
       "<style scoped>\n",
       "    .dataframe tbody tr th:only-of-type {\n",
       "        vertical-align: middle;\n",
       "    }\n",
       "\n",
       "    .dataframe tbody tr th {\n",
       "        vertical-align: top;\n",
       "    }\n",
       "\n",
       "    .dataframe thead th {\n",
       "        text-align: right;\n",
       "    }\n",
       "</style>\n",
       "<table border=\"1\" class=\"dataframe\">\n",
       "  <thead>\n",
       "    <tr style=\"text-align: right;\">\n",
       "      <th></th>\n",
       "      <th>Mouse ID</th>\n",
       "      <th>Drug Regimen</th>\n",
       "      <th>Sex</th>\n",
       "      <th>Age_months</th>\n",
       "      <th>Weight (g)</th>\n",
       "      <th>Timepoint</th>\n",
       "      <th>Tumor Volume (mm3)</th>\n",
       "      <th>Metastatic Sites</th>\n",
       "    </tr>\n",
       "  </thead>\n",
       "  <tbody>\n",
       "    <tr>\n",
       "      <th>20</th>\n",
       "      <td>x401</td>\n",
       "      <td>Capomulin</td>\n",
       "      <td>Female</td>\n",
       "      <td>16</td>\n",
       "      <td>15</td>\n",
       "      <td>0</td>\n",
       "      <td>45.000000</td>\n",
       "      <td>0</td>\n",
       "    </tr>\n",
       "    <tr>\n",
       "      <th>21</th>\n",
       "      <td>x401</td>\n",
       "      <td>Capomulin</td>\n",
       "      <td>Female</td>\n",
       "      <td>16</td>\n",
       "      <td>15</td>\n",
       "      <td>5</td>\n",
       "      <td>45.473753</td>\n",
       "      <td>0</td>\n",
       "    </tr>\n",
       "    <tr>\n",
       "      <th>22</th>\n",
       "      <td>x401</td>\n",
       "      <td>Capomulin</td>\n",
       "      <td>Female</td>\n",
       "      <td>16</td>\n",
       "      <td>15</td>\n",
       "      <td>10</td>\n",
       "      <td>39.113891</td>\n",
       "      <td>0</td>\n",
       "    </tr>\n",
       "    <tr>\n",
       "      <th>23</th>\n",
       "      <td>x401</td>\n",
       "      <td>Capomulin</td>\n",
       "      <td>Female</td>\n",
       "      <td>16</td>\n",
       "      <td>15</td>\n",
       "      <td>15</td>\n",
       "      <td>39.776250</td>\n",
       "      <td>0</td>\n",
       "    </tr>\n",
       "    <tr>\n",
       "      <th>24</th>\n",
       "      <td>x401</td>\n",
       "      <td>Capomulin</td>\n",
       "      <td>Female</td>\n",
       "      <td>16</td>\n",
       "      <td>15</td>\n",
       "      <td>20</td>\n",
       "      <td>36.065835</td>\n",
       "      <td>0</td>\n",
       "    </tr>\n",
       "    <tr>\n",
       "      <th>25</th>\n",
       "      <td>x401</td>\n",
       "      <td>Capomulin</td>\n",
       "      <td>Female</td>\n",
       "      <td>16</td>\n",
       "      <td>15</td>\n",
       "      <td>25</td>\n",
       "      <td>36.617120</td>\n",
       "      <td>0</td>\n",
       "    </tr>\n",
       "    <tr>\n",
       "      <th>26</th>\n",
       "      <td>x401</td>\n",
       "      <td>Capomulin</td>\n",
       "      <td>Female</td>\n",
       "      <td>16</td>\n",
       "      <td>15</td>\n",
       "      <td>30</td>\n",
       "      <td>32.915292</td>\n",
       "      <td>0</td>\n",
       "    </tr>\n",
       "    <tr>\n",
       "      <th>27</th>\n",
       "      <td>x401</td>\n",
       "      <td>Capomulin</td>\n",
       "      <td>Female</td>\n",
       "      <td>16</td>\n",
       "      <td>15</td>\n",
       "      <td>35</td>\n",
       "      <td>30.206825</td>\n",
       "      <td>0</td>\n",
       "    </tr>\n",
       "    <tr>\n",
       "      <th>28</th>\n",
       "      <td>x401</td>\n",
       "      <td>Capomulin</td>\n",
       "      <td>Female</td>\n",
       "      <td>16</td>\n",
       "      <td>15</td>\n",
       "      <td>40</td>\n",
       "      <td>28.167397</td>\n",
       "      <td>0</td>\n",
       "    </tr>\n",
       "    <tr>\n",
       "      <th>29</th>\n",
       "      <td>x401</td>\n",
       "      <td>Capomulin</td>\n",
       "      <td>Female</td>\n",
       "      <td>16</td>\n",
       "      <td>15</td>\n",
       "      <td>45</td>\n",
       "      <td>28.484033</td>\n",
       "      <td>0</td>\n",
       "    </tr>\n",
       "  </tbody>\n",
       "</table>\n",
       "</div>"
      ],
      "text/plain": [
       "   Mouse ID Drug Regimen     Sex  Age_months  Weight (g)  Timepoint  \\\n",
       "20     x401    Capomulin  Female          16          15          0   \n",
       "21     x401    Capomulin  Female          16          15          5   \n",
       "22     x401    Capomulin  Female          16          15         10   \n",
       "23     x401    Capomulin  Female          16          15         15   \n",
       "24     x401    Capomulin  Female          16          15         20   \n",
       "25     x401    Capomulin  Female          16          15         25   \n",
       "26     x401    Capomulin  Female          16          15         30   \n",
       "27     x401    Capomulin  Female          16          15         35   \n",
       "28     x401    Capomulin  Female          16          15         40   \n",
       "29     x401    Capomulin  Female          16          15         45   \n",
       "\n",
       "    Tumor Volume (mm3)  Metastatic Sites  \n",
       "20           45.000000                 0  \n",
       "21           45.473753                 0  \n",
       "22           39.113891                 0  \n",
       "23           39.776250                 0  \n",
       "24           36.065835                 0  \n",
       "25           36.617120                 0  \n",
       "26           32.915292                 0  \n",
       "27           30.206825                 0  \n",
       "28           28.167397                 0  \n",
       "29           28.484033                 0  "
      ]
     },
     "execution_count": 21,
     "metadata": {},
     "output_type": "execute_result"
    }
   ],
   "source": [
    "# Pulling all rows for the sampled mouse out of the master dataframe\n",
    "sample_mouse = mouse_cleaned.loc[mouse_cleaned['Mouse ID'] == sample_generator.iloc[0,0], :]\n",
    "sample_mouse"
   ]
  },
  {
   "cell_type": "code",
   "execution_count": 22,
   "metadata": {},
   "outputs": [
    {
     "data": {
      "image/png": "[encoded data removed]",
      "text/plain": [
       "<Figure size 864x432 with 1 Axes>"
      ]
     },
     "metadata": {
      "needs_background": "light"
     },
     "output_type": "display_data"
    }
   ],
   "source": [
    "# Building line plot for sampled mouse\n",
    "plt.figure(figsize=(12,6))\n",
    "plt.plot(sample_mouse['Timepoint'], sample_mouse['Tumor Volume (mm3)'], marker='o')\n",
    "plt.xlabel('Timepoint', labelpad=20, fontsize='large')\n",
    "plt.ylabel('Tumor Volume (mm3)', labelpad=20, fontsize='large')\n",
    "plt.xlim(0)\n",
    "plt.margins(.1)\n",
    "plt.title(f\"Treatment over time for mouse {sample_mouse.iloc[0,0]}\", pad=20, fontweight='bold')\n",
    "\n",
    "# Adding labels to individual timepoints\n",
    "for x,y in zip(sample_mouse['Timepoint'], sample_mouse['Tumor Volume (mm3)']):\n",
    "    label = \"{:.2f}\".format(y)\n",
    "    plt.annotate(label, (x,y), textcoords=\"offset points\", xytext=(0,10), ha='center')\n",
    "\n",
    "plt.show()"
   ]
  },
  {
   "cell_type": "markdown",
   "metadata": {},
   "source": [
    "# Scatterplot\n",
    "\n",
    "Creating a scatterplot to visualize the average tumor volume by mouse weight is useful for drawing correlations and predicting the results of future studies. "
   ]
  },
  {
   "cell_type": "code",
   "execution_count": 23,
   "metadata": {},
   "outputs": [],
   "source": [
    "# Creating an exclusive dataframe that only include Capomulin treated mice\n",
    "capomulin_df = mouse_cleaned.loc[mouse_cleaned['Drug Regimen'] == 'Capomulin', :]"
   ]
  },
  {
   "cell_type": "code",
   "execution_count": 24,
   "metadata": {},
   "outputs": [],
   "source": [
    "# Grouping mice by ID\n",
    "mouse_group = capomulin_df.groupby('Mouse ID')\n",
    "\n",
    "# Creating axis variables\n",
    "weights = mouse_group['Weight (g)'].last()\n",
    "volumes = mouse_group['Tumor Volume (mm3)'].mean()"
   ]
  },
  {
   "cell_type": "code",
   "execution_count": 25,
   "metadata": {},
   "outputs": [
    {
     "data": {
      "image/png": "[encoded data removed]",
      "text/plain": [
       "<Figure size 864x432 with 1 Axes>"
      ]
     },
     "metadata": {
      "needs_background": "light"
     },
     "output_type": "display_data"
    },
    {
     "name": "stdout",
     "output_type": "stream",
     "text": [
      "The correlation coefficient is 0.84\n",
      "The line of best fit equation is y = 0.95x + 21.55\n"
     ]
    }
   ],
   "source": [
    "# Building scatterplot\n",
    "plt.figure(figsize=(12,6))\n",
    "plt.scatter(weights, volumes)\n",
    "plt.title('Weight to Average Tumor Volume', pad=20, fontweight='bold')\n",
    "plt.xlabel('Mouse Weight (g)', labelpad=20, fontsize='large')\n",
    "plt.ylabel('Average Tumor Volume (mm3)', labelpad=20, fontsize='large')\n",
    "\n",
    "# Unpacking linear regression returns into tuple\n",
    "(slope, intercept, rvalue, pvalue, stderr) = st.linregress(weights, volumes)\n",
    "\n",
    "# Using line slope to create y-axis values for regression line\n",
    "regress_values = weights * slope + intercept\n",
    "\n",
    "# Plotting regression line over scatterplot\n",
    "plt.plot(weights, regress_values, \"r-\", alpha=.75)\n",
    "plt.show()\n",
    "\n",
    "# Displaying correlation coefficient\n",
    "print(f\"The correlation coefficient is {round(rvalue,2)}\")\n",
    "print(f\"The line of best fit equation is y = {round(slope,2)}x + {round(intercept,2)}\")"
   ]
  },
  {
   "cell_type": "code",
   "execution_count": null,
   "metadata": {},
   "outputs": [],
   "source": []
  }
 ],
 "metadata": {
  "kernelspec": {
   "display_name": "Python 3",
   "language": "python",
   "name": "python3"
  },
  "language_info": {
   "codemirror_mode": {
    "name": "ipython",
    "version": 3
   },
   "file_extension": ".py",
   "mimetype": "text/x-python",
   "name": "python",
   "nbconvert_exporter": "python",
   "pygments_lexer": "ipython3",
   "version": "3.6.10"
  }
 },
 "nbformat": 4,
 "nbformat_minor": 4
}
